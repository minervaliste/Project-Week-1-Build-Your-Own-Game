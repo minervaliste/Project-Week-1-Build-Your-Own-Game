{
 "cells": [
  {
   "cell_type": "code",
   "execution_count": 1,
   "metadata": {},
   "outputs": [],
   "source": [
    "code_colours = ['blue', 'green', 'red', 'yellow', 'orange', 'purple']\n"
   ]
  },
  {
   "cell_type": "code",
   "execution_count": 2,
   "metadata": {
    "scrolled": false
   },
   "outputs": [],
   "source": [
    "## Create a function to choose a code randomly:\n",
    "\n",
    "import random\n",
    "def random_code(code_colours):\n",
    "    list = [random.choice(code_colours) for i in range(4)]\n",
    "    return list"
   ]
  },
  {
   "cell_type": "code",
   "execution_count": 3,
   "metadata": {
    "scrolled": true
   },
   "outputs": [],
   "source": [
    "## Create a function to ask the player to choose the peg for a particular position in the code. Include input error control:\n",
    "\n",
    "def get_colour(code_colours, position):\n",
    "    colour = input('Please choose a colour for position {0}: '.format(position))\n",
    "    while colour not in code_colours:\n",
    "        colour = input('That is not a valid option. Please choose a colour for position {0}: '.format(position))\n",
    "    return colour\n",
    "\n",
    "## Create a function to get a guess code from the player. The code includes 4 positions (1 to 4): \n",
    "\n",
    "def guess_code(code_colours):\n",
    "    print('Form a 4 element combination using the following colours: ', list(code_colours))\n",
    "    possible_code = [get_colour(code_colours, position) for position in range(1,5)]\n",
    "    return possible_code\n",
    "        \n",
    "            \n"
   ]
  },
  {
   "cell_type": "code",
   "execution_count": 4,
   "metadata": {},
   "outputs": [],
   "source": [
    "\n",
    "def check_code (codemaker_choice, codebreaker_choice):\n",
    "    available_indexes = [0, 1, 2, 3]\n",
    "    black_pegs = 0\n",
    "    white_pegs = 0\n",
    "    \n",
    "    ## First iteration: check black pegs (same colour + same position). When a code peg from the code to be guessed is matched, its index is removed from the index list so it is not considered in the second iteration:\n",
    "    for x in range(len(codebreaker_choice)):\n",
    "        if codebreaker_choice[x] == codemaker_choice[x]:\n",
    "            black_pegs += 1\n",
    "            available_indexes.remove(x)\n",
    "            \n",
    "    ## Create an intermediate list with the pegs still unmatched in the codemaker and the codebreaker codes:\n",
    "    available_codemaker_pegs = [codemaker_choice[x] for x in available_indexes]\n",
    "    available_codebreaker_pegs = [codebreaker_choice[x] for x in available_indexes]\n",
    "\n",
    "    \n",
    "    ## Second iteration: check white pegs (same colour in different position). It only considers the remaining pegs to be compared in both codes. Position is not considered. Everytime a match is made, the element is eliminated from the intermediate lists: \n",
    "    for x in available_codebreaker_pegs:\n",
    "        if x in codemaker_choice: \n",
    "            white_pegs += 1\n",
    "            available_codemaker_pegs.remove(x)\n",
    "    return black_pegs, white_pegs\n"
   ]
  },
  {
   "cell_type": "code",
   "execution_count": 5,
   "metadata": {},
   "outputs": [
    {
     "name": "stdout",
     "output_type": "stream",
     "text": [
      "['yellow', 'red', 'green', 'green']\n",
      "Form a 4 element combination using the following colours:  ['blue', 'green', 'red', 'yellow', 'orange', 'purple']\n",
      "Please choose a colour for position 1: blue\n",
      "Please choose a colour for position 2: green\n",
      "Please choose a colour for position 3: green\n",
      "Please choose a colour for position 4: yellow\n",
      "          Your guess is: ['blue', 'green', 'green', 'yellow'] Your key is: 1 black keys and 2 white keys\n",
      "Form a 4 element combination using the following colours:  ['blue', 'green', 'red', 'yellow', 'orange', 'purple']\n",
      "Please choose a colour for position 1: red\n",
      "Please choose a colour for position 2: yellow\n",
      "Please choose a colour for position 3: green\n",
      "Please choose a colour for position 4: green\n",
      "          Your guess is: ['red', 'yellow', 'green', 'green'] Your key is: 2 black keys and 2 white keys\n",
      "You lose\n"
     ]
    }
   ],
   "source": [
    "total_rounds = 2\n",
    "rounds_played = 0\n",
    "codemaker_choice = random_code(code_colours)\n",
    "print(codemaker_choice)\n",
    "\n",
    "\n",
    "for i in range(total_rounds):\n",
    "    rounds_played +=1\n",
    "    codebreaker_choice = guess_code(code_colours)\n",
    "    round_results = check_code(codemaker_choice, codebreaker_choice)\n",
    "    print('          Your guess is:', codebreaker_choice, 'Your key is:', round_results[0], 'black keys and', round_results[1], 'white keys')\n",
    "    if codebreaker_choice == codemaker_choice:\n",
    "        print('You win')\n",
    "        break\n",
    "    if rounds_played == total_rounds:\n",
    "        print('You lose')\n",
    "    \n",
    "\n",
    "    "
   ]
  }
 ],
 "metadata": {
  "kernelspec": {
   "display_name": "Python 3",
   "language": "python",
   "name": "python3"
  },
  "language_info": {
   "codemirror_mode": {
    "name": "ipython",
    "version": 3
   },
   "file_extension": ".py",
   "mimetype": "text/x-python",
   "name": "python",
   "nbconvert_exporter": "python",
   "pygments_lexer": "ipython3",
   "version": "3.7.4"
  }
 },
 "nbformat": 4,
 "nbformat_minor": 2
}
