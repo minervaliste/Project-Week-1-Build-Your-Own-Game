{
 "cells": [
  {
   "cell_type": "code",
   "execution_count": 1,
   "metadata": {},
   "outputs": [],
   "source": [
    "code_colours = ['blue', 'green', 'red', 'yellow', 'orange', 'purple']"
   ]
  },
  {
   "cell_type": "code",
   "execution_count": 2,
   "metadata": {
    "scrolled": false
   },
   "outputs": [],
   "source": [
    "## First option: work with numbers. Abandoned because I did not know how to control incorrect inputs\n",
    "\n",
    "# import random\n",
    "# def random_code():\n",
    "#     list = [random.randint(1,6) for i in range(4)]\n",
    "#     return list\n",
    "\n",
    "# codemaker_choice = random_code()\n",
    "# print(codemaker_choice)\n",
    "\n",
    "\n",
    "## Create a function to choose a code randomply:\n",
    "\n",
    "import random\n",
    "def random_code(code_colours):\n",
    "    list = [random.choice(code_colours) for i in range(4)]\n",
    "    return list"
   ]
  },
  {
   "cell_type": "code",
   "execution_count": 3,
   "metadata": {
    "scrolled": true
   },
   "outputs": [],
   "source": [
    "## First option: work with numbers. Abandoned because I did not know how to control incorrect inputs\n",
    "\n",
    "# def ask_number(x):\n",
    "#     number = input('Please choose a number from 1 to 6 for position {0} of your code '.format(x))\n",
    "#     print(number)\n",
    "#     print(type(number))\n",
    "#     if number not in range(1,6) or type(x) is not int:\n",
    "#         number = input('That is not a correct option. Please choose a number from 1 to 6 for position {0} of your code'.format(x))\n",
    "#     return number\n",
    "            \n",
    "# number_1 = ask_number(1)\n",
    "# print(number_1)\n",
    "\n",
    "\n",
    "## Create a function to ask the player to choose the peg for a particular position in the code. Include input error control:\n",
    "\n",
    "def get_colour(code_colours, position):\n",
    "    colour = input('Please choose a colour for position {0}: '.format(position))\n",
    "    while colour not in code_colours:\n",
    "        colour = input('That is not a valid option. Please choose a colour for position {0}: '.format(position))\n",
    "    return colour\n",
    "\n",
    "## Create a function to get a guess code from the player. The code includes 4 positions (1 to 4): \n",
    "\n",
    "def guess_code(code_colours):\n",
    "    print('Form a 4 element combination using the following colours: ', list(code_colours))\n",
    "    possible_code = [get_colour(code_colours, position) for position in range(1,5)]\n",
    "    return possible_code\n",
    "        \n",
    "            \n"
   ]
  },
  {
   "cell_type": "code",
   "execution_count": 4,
   "metadata": {},
   "outputs": [],
   "source": [
    "\n",
    "## Create a function to check the player code against the code to be guessed: \n",
    "\n",
    "def check_code (codemaker_choice, codebreaker_choice):\n",
    "    index_to_check = [0, 1, 2, 3]\n",
    "    black_pegs = 0\n",
    "    white_pegs = 0\n",
    "    ## First iteration: check black pegs (same colour + same position). When a code peg from the code to be guessed is matched, its index is removed from the index list so it is not considered in the second iteration:\n",
    "    for x in range(len(codebreaker_choice)):\n",
    "        if codebreaker_choice[x] == codemaker_choice[x]:\n",
    "            black_pegs += 1\n",
    "            index_to_check.remove(x)\n",
    "    ## Second iteration: check white pegs (same colour in different position). It only considers the pegs from the code to be guessed that have not been previously matched: \n",
    "    for x in range(len(codebreaker_choice)):\n",
    "        if codebreaker_choice[x] in codemaker_choice and codemaker_choice.index(codebreaker_choice[x]) in index_to_check:\n",
    "            white_pegs += 1\n",
    "            index_to_check.remove(codemaker_choice.index(codebreaker_choice[x]))\n",
    "    return black_pegs, white_pegs\n",
    "\n",
    "# codemaker_choice = ['blue', 'red', 'blue', 'blue']\n",
    "# codebreaker_choice = ['blue', 'yellow', 'blue', 'red']\n",
    "\n",
    "# results = check_round(codemaker_choice, codebreaker_choice)\n",
    "# print('There are', results[0], 'black pegs and', results[1], 'white pegs.')\n",
    "\n",
    "##I can't seem to save the returned results in a list, why??"
   ]
  },
  {
   "cell_type": "code",
   "execution_count": 5,
   "metadata": {},
   "outputs": [
    {
     "name": "stdout",
     "output_type": "stream",
     "text": [
      "['green', 'yellow', 'green', 'red']\n",
      "Form a 4 element combination using the following colours:  ['blue', 'green', 'red', 'yellow', 'orange', 'purple']\n",
      "Please choose a colour for position 1: \n",
      "That is not a valid option. Please choose a colour for position 1: green\n",
      "Please choose a colour for position 2: green\n",
      "Please choose a colour for position 3: green\n",
      "Please choose a colour for position 4: green\n",
      "          Your guess is: ['green', 'green', 'green', 'green'] Your key is: 2 black keys and 0 white keys\n",
      "Form a 4 element combination using the following colours:  ['blue', 'green', 'red', 'yellow', 'orange', 'purple']\n",
      "Please choose a colour for position 1: green\n",
      "Please choose a colour for position 2: red\n",
      "Please choose a colour for position 3: yellow\n",
      "Please choose a colour for position 4: green\n",
      "          Your guess is: ['green', 'red', 'yellow', 'green'] Your key is: 1 black keys and 2 white keys\n",
      "You lose\n"
     ]
    }
   ],
   "source": [
    "total_rounds = 2\n",
    "rounds_played = 0\n",
    "codemaker_choice = random_code(code_colours)\n",
    "print(codemaker_choice)\n",
    "\n",
    "\n",
    "for i in range(total_rounds):\n",
    "    rounds_played +=1\n",
    "    codebreaker_choice = guess_code(code_colours)\n",
    "    round_results = check_code(codemaker_choice, codebreaker_choice)\n",
    "    print('          Your guess is:', codebreaker_choice, 'Your key is:', round_results[0], 'black keys and', round_results[1], 'white keys')\n",
    "    if codebreaker_choice == codemaker_choice:\n",
    "        print('You win')\n",
    "        break\n",
    "    if rounds_played == total_rounds:\n",
    "        print('You lose')\n",
    "    \n",
    "\n",
    "    "
   ]
  }
 ],
 "metadata": {
  "kernelspec": {
   "display_name": "Python 3",
   "language": "python",
   "name": "python3"
  },
  "language_info": {
   "codemirror_mode": {
    "name": "ipython",
    "version": 3
   },
   "file_extension": ".py",
   "mimetype": "text/x-python",
   "name": "python",
   "nbconvert_exporter": "python",
   "pygments_lexer": "ipython3",
   "version": "3.7.4"
  }
 },
 "nbformat": 4,
 "nbformat_minor": 2
}
